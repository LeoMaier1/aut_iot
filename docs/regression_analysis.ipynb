{
 "cells": [
  {
   "cell_type": "markdown",
   "id": "7fb51809",
   "metadata": {},
   "source": [
    "# Regressionsanalyse für Endgewicht-Vorhersage\n",
    "## Aufgabe 12.3: Regressionsmodell für Endgewicht\n",
    "\n",
    "Dieses Notebook dokumentiert die Entwicklung eines linearen Regressionsmodells zur Vorhersage des Endgewichts von Flaschen basierend auf IoT-Sensordaten, orientiert am Beispiel aus `docs/8_Regression_Python.ipynb`."
   ]
  },
  {
   "cell_type": "code",
   "execution_count": null,
   "id": "d7c52a06",
   "metadata": {},
   "outputs": [],
   "source": [
    "# Import der benötigten Bibliotheken (ähnlich zum Iris-Beispiel)\n",
    "import pandas as pd\n",
    "import numpy as np\n",
    "from sklearn.model_selection import train_test_split\n",
    "from sklearn.linear_model import LinearRegression\n",
    "from sklearn.metrics import mean_squared_error\n",
    "import matplotlib.pyplot as plt\n",
    "import seaborn as sns\n",
    "import os\n",
    "\n",
    "print(\"Bibliotheken erfolgreich importiert\")"
   ]
  },
  {
   "cell_type": "markdown",
   "id": "fd63f7cc",
   "metadata": {},
   "source": [
    "## 1. Daten laden (analog zu sns.load_dataset('iris'))"
   ]
  },
  {
   "cell_type": "code",
   "execution_count": null,
   "id": "7a2ad964",
   "metadata": {},
   "outputs": [],
   "source": [
    "# Trainingsdaten laden (equivalent to sns.load_dataset('iris'))\n",
    "data_path = '../database/data.csv'\n",
    "df = pd.read_csv(data_path)\n",
    "\n",
    "print(\"Training data loaded:\")\n",
    "print(f\"Shape: {df.shape}\")\n",
    "print(\"\\nFirst 5 rows:\")\n",
    "df.head()"
   ]
  },
  {
   "cell_type": "code",
   "execution_count": null,
   "id": "507d46c5",
   "metadata": {},
   "outputs": [],
   "source": [
    "# Datenübersicht\n",
    "print(\"Dataset Info:\")\n",
    "print(df.info())\n",
    "print(\"\\nDataset Description:\")\n",
    "df.describe()"
   ]
  },
  {
   "cell_type": "markdown",
   "id": "30e24031",
   "metadata": {},
   "source": [
    "## 2. Features und Zielvariable definieren (analog zum Iris-Beispiel)"
   ]
  },
  {
   "cell_type": "code",
   "execution_count": null,
   "id": "98cd7eb9",
   "metadata": {},
   "outputs": [],
   "source": [
    "# Prepare features and target (equivalent to iris example)\n",
    "y = df['final_weight']  # Target variable (like 'petal_length' in iris)\n",
    "X = df.drop(['bottle', 'final_weight'], axis=1)  # Features (remove ID and target)\n",
    "\n",
    "print(\"Features shape:\", X.shape)\n",
    "print(\"Target shape:\", y.shape)\n",
    "print(\"\\nFeatures:\")\n",
    "for i, feature in enumerate(X.columns, 1):\n",
    "    print(f\"{i}. {feature}\")"
   ]
  },
  {
   "cell_type": "markdown",
   "id": "2339815e",
   "metadata": {},
   "source": [
    "## 3. Train-Test Split (wie im Iris-Beispiel)"
   ]
  },
  {
   "cell_type": "code",
   "execution_count": null,
   "id": "abdaed77",
   "metadata": {},
   "outputs": [],
   "source": [
    "# Split data (analog to iris example)\n",
    "X_train, X_test, y_train, y_test = train_test_split(X, y, test_size=0.3, random_state=42)\n",
    "\n",
    "print(\"Training features shape:\", X_train.shape)\n",
    "print(\"Test features shape:\", X_test.shape)\n",
    "print(\"Training target shape:\", y_train.shape)\n",
    "print(\"Test target shape:\", y_test.shape)"
   ]
  },
  {
   "cell_type": "markdown",
   "id": "4b95b664",
   "metadata": {},
   "source": [
    "## 4. Modell erstellen und trainieren"
   ]
  },
  {
   "cell_type": "code",
   "execution_count": null,
   "id": "87cd042a",
   "metadata": {},
   "outputs": [],
   "source": [
    "# Create and train model (exactly like your simplified approach)\n",
    "model = LinearRegression()\n",
    "model.fit(X_train, y_train)\n",
    "\n",
    "print(\"Modell erfolgreich trainiert!\")\n",
    "print(f\"Intercept (β₀): {model.intercept_:.4f}\")"
   ]
  },
  {
   "cell_type": "code",
   "execution_count": null,
   "id": "bf0bbd53",
   "metadata": {},
   "outputs": [],
   "source": [
    "# Show model coefficients (like your model)\n",
    "print(\"Model coefficients:\")\n",
    "for feature, coef in zip(X.columns, model.coef_):\n",
    "    print(f\"{feature}: {coef:.4f}\")"
   ]
  },
  {
   "cell_type": "markdown",
   "id": "998a60e2",
   "metadata": {},
   "source": [
    "## 5. Modell evaluieren"
   ]
  },
  {
   "cell_type": "code",
   "execution_count": null,
   "id": "a4342dd6",
   "metadata": {},
   "outputs": [],
   "source": [
    "# Make predictions on training data (like your approach)\n",
    "y_train_pred = model.predict(X_train)\n",
    "y_test_pred = model.predict(X_test)\n",
    "\n",
    "# Calculate performance (exactly as in your model)\n",
    "mse_train = mean_squared_error(y_train, y_train_pred)\n",
    "mse_test = mean_squared_error(y_test, y_test_pred)\n",
    "\n",
    "print(\"Model Performance:\")\n",
    "print(f\"Training MSE: {mse_train:.4f}\")\n",
    "print(f\"Test MSE: {mse_test:.4f}\")\n",
    "\n",
    "# Additional metrics for analysis\n",
    "from sklearn.metrics import r2_score\n",
    "r2_train = r2_score(y_train, y_train_pred)\n",
    "r2_test = r2_score(y_test, y_test_pred)\n",
    "print(f\"R² Training: {r2_train:.4f}\")\n",
    "print(f\"R² Test: {r2_test:.4f}\")"
   ]
  },
  {
   "cell_type": "markdown",
   "id": "9a33f40e",
   "metadata": {},
   "source": [
    "## 6. Ergebnistabelle für Report (genau wie gefordert)"
   ]
  },
  {
   "cell_type": "code",
   "execution_count": null,
   "id": "4791a21e",
   "metadata": {},
   "outputs": [],
   "source": [
    "# Results table (exactly as in your simplified model)\n",
    "print(\"=== RESULTS TABLE ===\")\n",
    "print(\"| Genutzte Spalten | Modell-Typ | MSE-Wert (Training) | MSE-Wert (Test) |\")\n",
    "print(\"|------------------|------------|---------------------|-----------------|\")\n",
    "print(f\"| All features | Linear | {mse_train:.4f} | {mse_test:.4f} |\")\n",
    "\n",
    "# Create DataFrame for better display\n",
    "results_df = pd.DataFrame({\n",
    "    'Genutzte Spalten': ['All features'],\n",
    "    'Modell-Typ': ['Linear'],\n",
    "    'MSE-Wert (Training)': [f\"{mse_train:.4f}\"],\n",
    "    'MSE-Wert (Test)': [f\"{mse_test:.4f}\"]\n",
    "})\n",
    "results_df"
   ]
  },
  {
   "cell_type": "markdown",
   "id": "26194cd2",
   "metadata": {},
   "source": [
    "## 7. Modellformel (y = mx + b Form)"
   ]
  },
  {
   "cell_type": "code",
   "execution_count": null,
   "id": "59d1b9ba",
   "metadata": {},
   "outputs": [],
   "source": [
    "# Model formula (exactly as in your simplified model)\n",
    "print(\"=== MODEL FORMULA ===\")\n",
    "formula = f\"final_weight = {model.intercept_:.4f}\"\n",
    "for feature, coef in zip(X.columns, model.coef_):\n",
    "    if coef >= 0:\n",
    "        formula += f\" + {coef:.4f} * {feature}\"\n",
    "    else:\n",
    "        formula += f\" - {abs(coef):.4f} * {feature}\"\n",
    "\n",
    "print(\"Complete formula:\")\n",
    "print(formula)\n",
    "\n",
    "# Simplified representation\n",
    "print(\"\\nGeneral form:\")\n",
    "print(\"y = β₀ + β₁×vibration_red + β₂×fill_red + β₃×vibration_blue + β₄×fill_blue + β₅×vibration_green + β₆×fill_green + β₇×temp_green + β₈×temp_red + β₉×temp_blue\")"
   ]
  },
  {
   "cell_type": "markdown",
   "id": "05a119e1",
   "metadata": {},
   "source": [
    "## 8. Vorhersagen für X.csv (wie gefordert)"
   ]
  },
  {
   "cell_type": "code",
   "execution_count": null,
   "id": "8ae90fad",
   "metadata": {},
   "outputs": [],
   "source": [
    "# Load prediction data (X.csv) - exactly as in your model\n",
    "pred_path = '../X.csv'\n",
    "X_pred_df = pd.read_csv(pred_path)\n",
    "\n",
    "print(f\"Prediction data loaded. Shape: {X_pred_df.shape}\")\n",
    "print(\"First 5 rows:\")\n",
    "X_pred_df.head()"
   ]
  },
  {
   "cell_type": "code",
   "execution_count": null,
   "id": "127e8579",
   "metadata": {},
   "outputs": [],
   "source": [
    "# Prepare prediction features (same as your simplified approach)\n",
    "X_pred = X_pred_df.drop(['bottle'], axis=1)  # Remove bottle ID\n",
    "X_pred = X_pred.fillna(X_pred.mean())  # Handle missing values\n",
    "\n",
    "# Make final predictions (exactly as in your model)\n",
    "final_predictions = model.predict(X_pred)\n",
    "\n",
    "print(f\"First 5 predictions: {final_predictions[:5]}\")\n",
    "print(f\"Total predictions made: {len(final_predictions)}\")"
   ]
  },
  {
   "cell_type": "code",
   "execution_count": null,
   "id": "f5d40cf4",
   "metadata": {},
   "outputs": [],
   "source": [
    "# Save predictions in required format (exactly as your model does)\n",
    "predictions_df = pd.DataFrame({\n",
    "    'Flaschen_ID': X_pred_df['bottle'],\n",
    "    'y_hat': final_predictions\n",
    "})\n",
    "\n",
    "# Save to CSV (same path as your model)\n",
    "output_path = '../linear_reg/reg_student1-student2-student3.csv'\n",
    "predictions_df.to_csv(output_path, index=False)\n",
    "\n",
    "print(f\"Predictions saved to: {output_path}\")\n",
    "print(\"Sample predictions (Flaschen_ID, y_hat):\")\n",
    "for i in range(min(5, len(predictions_df))):\n",
    "    print(f\"{predictions_df.iloc[i]['Flaschen_ID']}, {predictions_df.iloc[i]['y_hat']:.1f}\")"
   ]
  },
  {
   "cell_type": "markdown",
   "id": "6dad960f",
   "metadata": {},
   "source": [
    "## 9. Visualisierungen (Optional)"
   ]
  },
  {
   "cell_type": "code",
   "execution_count": null,
   "id": "e4d95aa4",
   "metadata": {},
   "outputs": [],
   "source": [
    "# Simple visualizations\n",
    "plt.figure(figsize=(12, 4))\n",
    "\n",
    "# Predicted vs Actual\n",
    "plt.subplot(1, 2, 1)\n",
    "plt.scatter(y_test, y_test_pred, alpha=0.6)\n",
    "plt.plot([y_test.min(), y_test.max()], [y_test.min(), y_test.max()], 'r--', lw=2)\n",
    "plt.xlabel('Actual Values')\n",
    "plt.ylabel('Predicted Values')\n",
    "plt.title('Predictions vs Actual Values')\n",
    "plt.grid(True, alpha=0.3)\n",
    "\n",
    "# Residuals\n",
    "plt.subplot(1, 2, 2)\n",
    "residuals = y_test - y_test_pred\n",
    "plt.scatter(y_test_pred, residuals, alpha=0.6)\n",
    "plt.axhline(y=0, color='r', linestyle='--')\n",
    "plt.xlabel('Predicted Values')\n",
    "plt.ylabel('Residuals')\n",
    "plt.title('Residuals Plot')\n",
    "plt.grid(True, alpha=0.3)\n",
    "\n",
    "plt.tight_layout()\n",
    "plt.show()"
   ]
  },
  {
   "cell_type": "code",
   "execution_count": null,
   "id": "756f9d49",
   "metadata": {},
   "outputs": [],
   "source": [
    "# Prediction statistics\n",
    "print(\"Prediction Statistics:\")\n",
    "print(f\"Mean predicted weight: {final_predictions.mean():.2f}\")\n",
    "print(f\"Min predicted weight: {final_predictions.min():.2f}\")\n",
    "print(f\"Max predicted weight: {final_predictions.max():.2f}\")\n",
    "print(f\"Standard deviation: {final_predictions.std():.2f}\")\n",
    "\n",
    "# Distribution of predictions\n",
    "plt.figure(figsize=(10, 6))\n",
    "plt.hist(final_predictions, bins=30, alpha=0.7, edgecolor='black')\n",
    "plt.xlabel('Predicted Final Weight')\n",
    "plt.ylabel('Frequency')\n",
    "plt.title('Distribution of Predicted Final Weights')\n",
    "plt.grid(True, alpha=0.3)\n",
    "plt.show()"
   ]
  },
  {
   "cell_type": "markdown",
   "id": "c602409b",
   "metadata": {},
   "source": [
    "## 10. Zusammenfassung\n",
    "\n",
    "### Ergebnisse der Regressionsanalyse\n",
    "\n",
    "**Modell-Performance:**\n",
    "- Training MSE: [Wert wird bei Ausführung angezeigt]\n",
    "- Test MSE: [Wert wird bei Ausführung angezeigt]\n",
    "- Anzahl Features: 9 (alle IoT-Sensordaten)\n",
    "- Modell-Typ: Lineare Regression\n",
    "\n",
    "**Implementierung:**\n",
    "- Einfacher, transparenter Ansatz (wie Iris-Beispiel)\n",
    "- Alle Sensordaten als Features verwendet\n",
    "- Standardmäßige Train-Test-Aufteilung (70/30)\n",
    "- Direkte Anwendung ohne komplexe Vorverarbeitung\n",
    "\n",
    "**Deliverables erfüllt:**\n",
    "- ✅ Lineares Regressionsmodell implementiert\n",
    "- ✅ Ergebnistabelle erstellt\n",
    "- ✅ Modellformel in y=mx+b Form dokumentiert\n",
    "- ✅ Vorhersagen für X.csv generiert\n",
    "- ✅ CSV-Datei mit Vorhersagen gespeichert\n",
    "- ✅ Dokumentation erstellt\n",
    "\n",
    "**Nächste Schritte:**\n",
    "1. Benennen Sie die CSV-Datei mit Ihren Matrikelnummern um\n",
    "2. Kopieren Sie die MSE-Werte in Ihren Report\n",
    "3. Fügen Sie die Modellformel zu Ihrer Dokumentation hinzu"
   ]
  }
 ],
 "metadata": {
  "language_info": {
   "name": "python"
  }
 },
 "nbformat": 4,
 "nbformat_minor": 5
}
